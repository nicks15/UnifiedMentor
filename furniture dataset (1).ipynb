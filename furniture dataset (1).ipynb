{
 "cells": [
  {
   "cell_type": "code",
   "execution_count": 1,
   "id": "6806ccd1-987c-4f93-b5c2-725b298b3290",
   "metadata": {},
   "outputs": [],
   "source": [
    "import pandas as pd\n",
    "import numpy as np"
   ]
  },
  {
   "cell_type": "code",
   "execution_count": 2,
   "id": "d8e15501-8c2c-4d40-9dd3-502a5cb01749",
   "metadata": {},
   "outputs": [],
   "source": [
    "df = pd.read_csv(r\"C:\\Users\\Dell\\Downloads\\ecommerce_furniture_dataset_2024.csv\")\n"
   ]
  },
  {
   "cell_type": "code",
   "execution_count": 3,
   "id": "d226a862-1f35-4e8c-817f-9a9c8349e369",
   "metadata": {},
   "outputs": [
    {
     "name": "stdout",
     "output_type": "stream",
     "text": [
      "                                        productTitle originalPrice    price  \\\n",
      "0  Dresser For Bedroom With 9 Fabric Drawers Ward...           NaN   $46.79   \n",
      "1  Outdoor Conversation Set 4 Pieces Patio Furnit...           NaN  $169.72   \n",
      "2  Desser For Bedroom With 7 Fabric Drawers Organ...         $78.4   $39.46   \n",
      "3  Modern Accent Boucle Chair,Upholstered Tufted ...           NaN  $111.99   \n",
      "4  Small Unit Simple Computer Desk Household Wood...        $48.82   $21.37   \n",
      "\n",
      "   sold        tagText  \n",
      "0   600  Free shipping  \n",
      "1     0  Free shipping  \n",
      "2     7  Free shipping  \n",
      "3     0  Free shipping  \n",
      "4     1  Free shipping  \n"
     ]
    }
   ],
   "source": [
    "print(df.head())"
   ]
  },
  {
   "cell_type": "code",
   "execution_count": 4,
   "id": "eae1735d-2d70-4fd6-a7df-b5be218f9da5",
   "metadata": {},
   "outputs": [
    {
     "name": "stdout",
     "output_type": "stream",
     "text": [
      "productTitle        0\n",
      "originalPrice    1513\n",
      "price               0\n",
      "sold                0\n",
      "tagText             3\n",
      "dtype: int64\n"
     ]
    }
   ],
   "source": [
    "# Check for missing values\n",
    "print(df.isnull().sum())"
   ]
  },
  {
   "cell_type": "code",
   "execution_count": 5,
   "id": "ff518b76-97a6-44a7-a2c3-e830ce825e85",
   "metadata": {},
   "outputs": [
    {
     "name": "stdout",
     "output_type": "stream",
     "text": [
      "<class 'pandas.core.frame.DataFrame'>\n",
      "Index: 487 entries, 2 to 1983\n",
      "Data columns (total 5 columns):\n",
      " #   Column         Non-Null Count  Dtype \n",
      "---  ------         --------------  ----- \n",
      " 0   productTitle   487 non-null    object\n",
      " 1   originalPrice  487 non-null    object\n",
      " 2   price          487 non-null    object\n",
      " 3   sold           487 non-null    int64 \n",
      " 4   tagText        487 non-null    int8  \n",
      "dtypes: int64(1), int8(1), object(3)\n",
      "memory usage: 19.5+ KB\n",
      "None\n"
     ]
    }
   ],
   "source": [
    "# Dropping any rows with missing values (if applicable)\n",
    "df = df.dropna()\n",
    "# Converting tagText into a categorical feature (if necessary)\n",
    "df['tagText'] = df['tagText'].astype('category').cat.codes\n",
    "# Checking for data types and conversions if necessary\n",
    "print(df.info())"
   ]
  },
  {
   "cell_type": "code",
   "execution_count": 6,
   "id": "b4d22035-2d85-4a8a-b92d-96ac3d066985",
   "metadata": {},
   "outputs": [],
   "source": [
    "import seaborn as sns\n",
    "import matplotlib.pyplot as plt\n",
    "from sklearn.feature_extraction.text import TfidfVectorizer\n"
   ]
  },
  {
   "cell_type": "code",
   "execution_count": 7,
   "id": "82a9dee7-48d2-4007-b102-38f7d6d0bcb4",
   "metadata": {},
   "outputs": [
    {
     "ename": "NameError",
     "evalue": "name 'false' is not defined",
     "output_type": "error",
     "traceback": [
      "\u001b[1;31m---------------------------------------------------------------------------\u001b[0m",
      "\u001b[1;31mNameError\u001b[0m                                 Traceback (most recent call last)",
      "Cell \u001b[1;32mIn[7], line 2\u001b[0m\n\u001b[0;32m      1\u001b[0m \u001b[38;5;66;03m# Distribution of 'sold' values\u001b[39;00m\n\u001b[1;32m----> 2\u001b[0m sns\u001b[38;5;241m.\u001b[39mhistplot(df[\u001b[38;5;124m'\u001b[39m\u001b[38;5;124msold\u001b[39m\u001b[38;5;124m'\u001b[39m], kde\u001b[38;5;241m=\u001b[39mfalse)\n\u001b[0;32m      3\u001b[0m plt\u001b[38;5;241m.\u001b[39mtitle(\u001b[38;5;124m'\u001b[39m\u001b[38;5;124mDistribution of Furniture Items Sold\u001b[39m\u001b[38;5;124m'\u001b[39m)\n\u001b[0;32m      4\u001b[0m plt\u001b[38;5;241m.\u001b[39mshow()\n",
      "\u001b[1;31mNameError\u001b[0m: name 'false' is not defined"
     ]
    }
   ],
   "source": [
    "# Distribution of 'sold' values\n",
    "sns.histplot(df['sold'], kde=false)\n",
    "plt.title('Distribution of Furniture Items Sold')\n",
    "plt.show()"
   ]
  },
  {
   "cell_type": "code",
   "execution_count": null,
   "id": "33c8fece-5279-4cce-ac58-e544a7060f46",
   "metadata": {},
   "outputs": [],
   "source": [
    "# Plot the relationship between originalPrice, price and sold\n",
    "sns.pairplot(df, vars=['originalPrice', 'price', 'sold'],kind='scatter')\n",
    "plt.title('Relationship Between Price, Original Price, and Items Sold')\n",
    "plt.show()"
   ]
  },
  {
   "cell_type": "code",
   "execution_count": null,
   "id": "646068b1-25fb-42ee-a8fa-b92a4bbb54d1",
   "metadata": {},
   "outputs": [],
   "source": [
    "# Create a new feature: percentage discount\n",
    "df['discount_percentage'] = ((df['originalPrice'] -\n",
    "df['price']) / df['originalPrice']) * 100"
   ]
  },
  {
   "cell_type": "code",
   "execution_count": null,
   "id": "59eb669f-3771-49ff-b5c0-25c70760b0dc",
   "metadata": {},
   "outputs": [],
   "source": [
    "# Convert productTitle into a numeric feature using TF-IDF Vectorizer\n",
    "tfidf = TfidfVectorizer(max_features=100)\n",
    "productTitle_tfidf = tfidf.fit_transform(df['productTitle'])"
   ]
  },
  {
   "cell_type": "code",
   "execution_count": null,
   "id": "ccb4f28a-123c-44c9-b683-58dc7a4ae54e",
   "metadata": {},
   "outputs": [],
   "source": [
    "# Convert to DataFrame and concatenate to original df\n",
    "productTitle_tfidf_df = pd.DataFrame(productTitle_tfidf.toarray(),\n",
    "columns=tfidf.get_feature_names_out())\n",
    "df = pd.concat([df, productTitle_tfidf_df], axis=1)"
   ]
  },
  {
   "cell_type": "code",
   "execution_count": null,
   "id": "01b860f3-dd45-426e-8ddf-e833bf961a2b",
   "metadata": {},
   "outputs": [],
   "source": [
    "# Drop original productTitle as it's now encoded\n",
    "df = df.drop('productTitle', axis=1)"
   ]
  },
  {
   "cell_type": "code",
   "execution_count": null,
   "id": "cdf7afab-f3df-44b5-a269-9b0071e59e9b",
   "metadata": {},
   "outputs": [],
   "source": [
    "from sklearn.model_selection import train_test_split\n",
    "from sklearn.linear_model import LinearRegression\n",
    "from sklearn.ensemble import RandomForestRegressor\n",
    "from sklearn.metrics import mean_squared_error, r2_score"
   ]
  },
  {
   "cell_type": "code",
   "execution_count": null,
   "id": "ce8d8ffe-de72-473c-b428-6def80ed0e46",
   "metadata": {},
   "outputs": [],
   "source": [
    "# Split the dataset into features (X) and target (y)\n",
    "X = df.drop('sold', axis=1)\n",
    "y = df['sold']"
   ]
  },
  {
   "cell_type": "code",
   "execution_count": null,
   "id": "9db976bb-5615-4306-afa7-b0c9d170812b",
   "metadata": {},
   "outputs": [],
   "source": [
    "# Train-test split (80% train, 20% test)\n",
    "X_train, X_test, y_train, y_test = train_test_split(X, y,test_size=0.2, random_state=42)"
   ]
  },
  {
   "cell_type": "code",
   "execution_count": null,
   "id": "4e0ad1ec-0af6-4fb3-b38d-a5b34cae5228",
   "metadata": {},
   "outputs": [],
   "source": [
    "# Initialize models\n",
    "lr_model = LinearRegression()\n",
    "rf_model = RandomForestRegressor(n_estimators=100,\n",
    "random_state=42)"
   ]
  },
  {
   "cell_type": "code",
   "execution_count": null,
   "id": "bea6e638-10fc-4d82-a03e-c637c2d5e70c",
   "metadata": {},
   "outputs": [],
   "source": [
    "# Train models\n",
    "lr_model.fit(X_train, y_train)\n",
    "rf_model.fit(X_train, y_train)"
   ]
  },
  {
   "cell_type": "code",
   "execution_count": null,
   "id": "f99db2bb-9a86-4837-903e-4e220929b0b5",
   "metadata": {},
   "outputs": [],
   "source": [
    "# Predict with Linear Regression\n",
    "y_pred_lr = lr_model.predict(X_test)\n",
    "mse_lr = mean_squared_error(y_test, y_pred_lr)\n",
    "r2_lr = r2_score(y_test, y_pred_lr)"
   ]
  },
  {
   "cell_type": "code",
   "execution_count": 10,
   "id": "459bd7d8-9a7b-4d5b-b35e-c8d18277163b",
   "metadata": {},
   "outputs": [
    {
     "ename": "NameError",
     "evalue": "name 'rf_model' is not defined",
     "output_type": "error",
     "traceback": [
      "\u001b[1;31m---------------------------------------------------------------------------\u001b[0m",
      "\u001b[1;31mNameError\u001b[0m                                 Traceback (most recent call last)",
      "Cell \u001b[1;32mIn[10], line 2\u001b[0m\n\u001b[0;32m      1\u001b[0m \u001b[38;5;66;03m# Predict with Random Forest\u001b[39;00m\n\u001b[1;32m----> 2\u001b[0m y_pred_rf \u001b[38;5;241m=\u001b[39m rf_model\u001b[38;5;241m.\u001b[39mpredict(X_test)\n\u001b[0;32m      3\u001b[0m mse_rf \u001b[38;5;241m=\u001b[39m mean_squared_error(y_test, y_pred_rf)\n\u001b[0;32m      4\u001b[0m r2_rf \u001b[38;5;241m=\u001b[39m r2_score(y_test, y_pred_rf)\n",
      "\u001b[1;31mNameError\u001b[0m: name 'rf_model' is not defined"
     ]
    }
   ],
   "source": [
    "# Predict with Random Forest\n",
    "y_pred_rf = rf_model.predict(X_test)\n",
    "mse_rf = mean_squared_error(y_test, y_pred_rf)\n",
    "r2_rf = r2_score(y_test, y_pred_rf)"
   ]
  },
  {
   "cell_type": "code",
   "execution_count": 9,
   "id": "99ab1827-a713-471a-a76d-b0d275ec6c98",
   "metadata": {},
   "outputs": [
    {
     "ename": "NameError",
     "evalue": "name 'mse_lr' is not defined",
     "output_type": "error",
     "traceback": [
      "\u001b[1;31m---------------------------------------------------------------------------\u001b[0m",
      "\u001b[1;31mNameError\u001b[0m                                 Traceback (most recent call last)",
      "Cell \u001b[1;32mIn[9], line 2\u001b[0m\n\u001b[0;32m      1\u001b[0m \u001b[38;5;66;03m# Print model evaluation results\u001b[39;00m\n\u001b[1;32m----> 2\u001b[0m \u001b[38;5;28mprint\u001b[39m(\u001b[38;5;124mf\u001b[39m\u001b[38;5;124m'\u001b[39m\u001b[38;5;124mLinear Regression MSE: \u001b[39m\u001b[38;5;132;01m{\u001b[39;00mmse_lr\u001b[38;5;132;01m}\u001b[39;00m\u001b[38;5;124m, R2: \u001b[39m\u001b[38;5;132;01m{\u001b[39;00mr2_lr\u001b[38;5;132;01m}\u001b[39;00m\u001b[38;5;124m'\u001b[39m)\n\u001b[0;32m      3\u001b[0m \u001b[38;5;28mprint\u001b[39m(\u001b[38;5;124mf\u001b[39m\u001b[38;5;124m'\u001b[39m\u001b[38;5;124mRandom Forest MSE: \u001b[39m\u001b[38;5;132;01m{\u001b[39;00mmse_rf\u001b[38;5;132;01m}\u001b[39;00m\u001b[38;5;124m, R2: \u001b[39m\u001b[38;5;132;01m{\u001b[39;00mr2_rf\u001b[38;5;132;01m}\u001b[39;00m\u001b[38;5;124m'\u001b[39m)\n",
      "\u001b[1;31mNameError\u001b[0m: name 'mse_lr' is not defined"
     ]
    }
   ],
   "source": [
    "# Print model evaluation results\n",
    "print(f'Linear Regression MSE: {mse_lr}, R2: {r2_lr}')\n",
    "print(f'Random Forest MSE: {mse_rf}, R2: {r2_rf}')"
   ]
  },
  {
   "cell_type": "code",
   "execution_count": null,
   "id": "1cc397b5-6dc7-4d63-9e1b-85381755c687",
   "metadata": {},
   "outputs": [],
   "source": []
  },
  {
   "cell_type": "code",
   "execution_count": null,
   "id": "1ac804c2-469e-47a4-ab3b-a4978d85dec7",
   "metadata": {},
   "outputs": [],
   "source": []
  },
  {
   "cell_type": "code",
   "execution_count": null,
   "id": "342feb04-1491-45dd-a180-d03b01a35b7e",
   "metadata": {},
   "outputs": [],
   "source": []
  },
  {
   "cell_type": "code",
   "execution_count": null,
   "id": "50e37f66-2700-4eb2-be22-62adb9bd3a81",
   "metadata": {},
   "outputs": [],
   "source": []
  },
  {
   "cell_type": "code",
   "execution_count": null,
   "id": "827f6652-844c-4953-9f02-6ae52b1b3d54",
   "metadata": {},
   "outputs": [],
   "source": []
  },
  {
   "cell_type": "code",
   "execution_count": null,
   "id": "3e77e081-ea58-4413-ba1e-e7eb551b2079",
   "metadata": {},
   "outputs": [],
   "source": []
  },
  {
   "cell_type": "code",
   "execution_count": null,
   "id": "6179fc1a-5752-4f9c-90de-eb290d1ba29a",
   "metadata": {},
   "outputs": [],
   "source": []
  },
  {
   "cell_type": "code",
   "execution_count": null,
   "id": "59a66ee0-1b77-4d8a-8c3a-8fa00ce2de07",
   "metadata": {},
   "outputs": [],
   "source": []
  },
  {
   "cell_type": "code",
   "execution_count": null,
   "id": "32c71e60-ab99-4f37-8a93-0b7a7e28c81f",
   "metadata": {},
   "outputs": [],
   "source": []
  },
  {
   "cell_type": "code",
   "execution_count": null,
   "id": "78033079-d875-4946-8b6d-90f422ee376a",
   "metadata": {},
   "outputs": [],
   "source": []
  }
 ],
 "metadata": {
  "kernelspec": {
   "display_name": "Python 3 (ipykernel)",
   "language": "python",
   "name": "python3"
  },
  "language_info": {
   "codemirror_mode": {
    "name": "ipython",
    "version": 3
   },
   "file_extension": ".py",
   "mimetype": "text/x-python",
   "name": "python",
   "nbconvert_exporter": "python",
   "pygments_lexer": "ipython3",
   "version": "3.12.7"
  }
 },
 "nbformat": 4,
 "nbformat_minor": 5
}
